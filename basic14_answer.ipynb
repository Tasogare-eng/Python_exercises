{
  "nbformat": 4,
  "nbformat_minor": 0,
  "metadata": {
    "colab": {
      "provenance": [],
      "collapsed_sections": [
        "9r_DajM7vYd0",
        "yBbwOqdK7v1Y",
        "RHpAE0S07vca",
        "fGPjAUN77_7S",
        "U7z9sQuw7_1H",
        "YZZ_a1RQ7_vF",
        "P85rGP_F7_oS",
        "pWqgWk7L7_i7",
        "jtTU9kLu7_b9",
        "fF-AmtZS7_XA",
        "HthAFcOn7_K7",
        "RqFqXwmT7_Cw",
        "Er6rTP_q7-9T",
        "AQ3DLRLt7-4G",
        "hLnbAtpt7-zO",
        "GCDJwzYc7-uR",
        "1JYXFQlJ7-pu",
        "kb3Qb__o7-kx",
        "ja4MyeMs7-fH",
        "ziJgzQe27-ZP",
        "MsPuKCrC7-T7",
        "5m206IXy7-O6",
        "GfC_0sGq7-Jy",
        "KeS-thAw7-Eg",
        "irQYWJM-79_c",
        "DGkygEjU796H",
        "bvhbLyV9791W",
        "kYL1D8CT79v7",
        "_LvhvEyR79rK",
        "3rGCOWrO79mn",
        "3s-Q79JI79iG",
        "vz0j4geR79dg",
        "rrdI5ex179Zk",
        "u6vAk6mo79VV",
        "Q0GZzR3g79RZ",
        "gAlBqJhb79NI",
        "oyYF1W6p79Ju",
        "VZYeUNEc79F3",
        "PA_pbb5t79CP",
        "Nsk_FcN478-8",
        "qe3fCGlv787L",
        "kluxy0FJ7837",
        "9Cgf-8oJ78zw"
      ],
      "authorship_tag": "ABX9TyNJBppd4m9qwZLKs3dqajDU",
      "include_colab_link": true
    },
    "kernelspec": {
      "name": "python3",
      "display_name": "Python 3"
    },
    "language_info": {
      "name": "python"
    }
  },
  "cells": [
    {
      "cell_type": "markdown",
      "metadata": {
        "id": "view-in-github",
        "colab_type": "text"
      },
      "source": [
        "<a href=\"https://colab.research.google.com/github/Tasogare-eng/Python_exercises/blob/main/basic14_answer.ipynb\" target=\"_parent\"><img src=\"https://colab.research.google.com/assets/colab-badge.svg\" alt=\"Open In Colab\"/></a>"
      ]
    },
    {
      "cell_type": "markdown",
      "source": [
        "## 練習問題001\n",
        "次の変数を定義してprint関数で変数の内容とtype関数で変数の型を表示させてください\n",
        "1. 変数xに10000を代入\n",
        "2. 変数yに-10を代入\n",
        "3. 変数priceに1000を代入\n",
        "4. 変数totalに3450を代入"
      ],
      "metadata": {
        "id": "9r_DajM7vYd0"
      }
    },
    {
      "cell_type": "code",
      "execution_count": null,
      "metadata": {
        "id": "1MPAfb7bvB8K"
      },
      "outputs": [],
      "source": [
        "x = 10000\n",
        "print(x)\n",
        "print(type(x))\n",
        "y = -10\n",
        "print(y)\n",
        "print(type(y))\n",
        "price = 1000\n",
        "print(price)\n",
        "print(type(price))\n",
        "total = 3450\n",
        "print(total)\n",
        "print(type(total))"
      ]
    },
    {
      "cell_type": "markdown",
      "source": [
        "##002 練習問題\n",
        "次の変数を定義してprint関数で変数の内容とtype関数で変数の型を表示させてください\n",
        "1. 変数aに1.0を代入\n",
        "2. 変数bに3.333を代入\n",
        "3. 変数cに-2.0を代入\n",
        "4. 変数piに3.1415を代入"
      ],
      "metadata": {
        "id": "yBbwOqdK7v1Y"
      }
    },
    {
      "cell_type": "code",
      "source": [
        "a = 10.0\n",
        "print(a)\n",
        "print(type(a))\n",
        "b = 3.333\n",
        "print(b)\n",
        "print(type(b))\n",
        "c = -2.0\n",
        "print(c)\n",
        "print(type(c))\n",
        "pi = 3.1415\n",
        "print(pi)\n",
        "print(type(pi))"
      ],
      "metadata": {
        "id": "O0-c8SLSDa6q"
      },
      "execution_count": null,
      "outputs": []
    },
    {
      "cell_type": "markdown",
      "source": [
        "##003 練習問題\n",
        "次の変数を定義してprint関数で変数の内容とtype関数で変数の型を表示させてください\n",
        "1. 変数aに”Hello world”を代入\n",
        "2. 変数bに’さようなら’を代入\n",
        "3. 変数urlに\"http://example.com\"を代入\n",
        "4. 変数msgに「吾輩は”猫”である」を代入(ダブルクォート(\")はエスケープが必要)"
      ],
      "metadata": {
        "id": "RHpAE0S07vca"
      }
    },
    {
      "cell_type": "code",
      "source": [
        "a = \"Hello\"\n",
        "print(a)\n",
        "print(type(a))\n",
        "b = 'さようなら'\n",
        "print(b)\n",
        "print(type(b))\n",
        "url = \"http://example.com\"\n",
        "print(url)\n",
        "print(type(url))\n",
        "msg = \"吾輩は\\\"猫\\\"である\"\n",
        "print(msg)\n",
        "print(type(msg))"
      ],
      "metadata": {
        "id": "HJHbovuPEXop"
      },
      "execution_count": null,
      "outputs": []
    },
    {
      "cell_type": "markdown",
      "source": [
        "##004 練習問題\n",
        "次の変数を定義してprint関数で変数の内容とtype関数で変数の型を表示させてください\n",
        "1. 変数switch_onにTrueを代入\n",
        "2. 変数payment_flagにFalseを代入\n"
      ],
      "metadata": {
        "id": "fGPjAUN77_7S"
      }
    },
    {
      "cell_type": "code",
      "source": [
        "switch_on = True\n",
        "print(switch_on)\n",
        "print(type(switch_on))\n",
        "payment_flag = False\n",
        "print(payment_flag)\n",
        "print(type(payment_flag))"
      ],
      "metadata": {
        "id": "m0khWA7CE_rE"
      },
      "execution_count": null,
      "outputs": []
    },
    {
      "cell_type": "markdown",
      "source": [
        "##005 練習問題\n",
        "次の処理をコーディングして下さい<br>\n",
        "リスト型の変数 languages にBasic、C、C++、Pythonを要素として作成します<br>\n",
        "type関数を用いて型の確認を行います\n"
      ],
      "metadata": {
        "id": "U7z9sQuw7_1H"
      }
    },
    {
      "cell_type": "code",
      "source": [
        "languages = [\"Basic\", \"C\", \"C++\", \"Python\"]\n",
        "print(languages)\n",
        "print(type(languages))"
      ],
      "metadata": {
        "id": "Ux6B0EtOFQ9a"
      },
      "execution_count": null,
      "outputs": []
    },
    {
      "cell_type": "markdown",
      "source": [
        "##006 練習問題\n",
        "次の処理をコーディングして下さい<br>\n",
        "前の問題のリストからインデックスを指定して全ての要素を取り出して表示します"
      ],
      "metadata": {
        "id": "YZZ_a1RQ7_vF"
      }
    },
    {
      "cell_type": "code",
      "source": [
        "print(languages[0])\n",
        "print(languages[1])\n",
        "print(languages[2])\n",
        "print(languages[3])"
      ],
      "metadata": {
        "id": "zrJZolBMFt43"
      },
      "execution_count": null,
      "outputs": []
    },
    {
      "cell_type": "markdown",
      "source": [
        "##007 練習問題\n",
        "次の変数を定義してprint関数で表示し、type関数で自動的に型が変化することを確認して下さい\n",
        "1. 変数ch_type1に1を代入\n",
        "2. 変数ch_type1に5.03を代入\n",
        "3. 変数ch_type1に”型変換”を代入\n",
        "4. 変数ch_type1にTrueを代入"
      ],
      "metadata": {
        "id": "P85rGP_F7_oS"
      }
    },
    {
      "cell_type": "code",
      "source": [
        "ch_type1 = 1\n",
        "print(ch_type1)\n",
        "print(type(ch_type1))\n",
        "ch_type1 = 5.03\n",
        "print(ch_type1)\n",
        "print(type(ch_type1))\n",
        "ch_type1 = \"型変換\"\n",
        "print(ch_type1)\n",
        "print(type(ch_type1))\n",
        "ch_type1 = True\n",
        "print(ch_type1)\n",
        "print(type(ch_type1))"
      ],
      "metadata": {
        "id": "n5I4O5N2F9ui"
      },
      "execution_count": null,
      "outputs": []
    },
    {
      "cell_type": "markdown",
      "source": [
        "##008 練習問題\n",
        "次の処理をコーディングして下さい\n",
        "1. 1000円の商品Aと3500円の商品Bを購入した時の合計額を計算して表示する\n",
        "2. 10000円の商品Cと5000円の商品Dを購入した時の合計額を計算して表示する\n",
        "\n",
        "「合計金額はxx円です。」とf文字列を用いて表示させる"
      ],
      "metadata": {
        "id": "pWqgWk7L7_i7"
      }
    },
    {
      "cell_type": "code",
      "source": [
        "price_a  = 1000\n",
        "price_b = 3500\n",
        "total1 = price_a + price_b\n",
        "print(f\"合計金額は{total1}です\")\n",
        "\n",
        "price_c = 10000\n",
        "price_d = 5000\n",
        "total2 = price_c + price_d\n",
        "print(f\"合計金額は{total2}です\")"
      ],
      "metadata": {
        "id": "MuTs5Zp6Hej8"
      },
      "execution_count": null,
      "outputs": []
    },
    {
      "cell_type": "markdown",
      "source": [
        "##009 練習問題\n",
        "次の処理をコーディングして下さい\n",
        "1. 1000円の商品Aを3つ購入した時の合計額を計算して表示する\n",
        "2. 1500円の商品Bを5つ購入した時の合計額を計算して表示する\n",
        "\n",
        "「合計金額はxx円です。」とf文字列を用いて表示させる"
      ],
      "metadata": {
        "id": "jtTU9kLu7_b9"
      }
    },
    {
      "cell_type": "code",
      "source": [
        "price_a  = 1000\n",
        "total1 = price_a *3\n",
        "print(f\"合計金額は{total1}です\")\n",
        "\n",
        "price_b = 1500\n",
        "total2 = price_b * 5\n",
        "print(f\"合計金額は{total2}です\")"
      ],
      "metadata": {
        "id": "4aYwS6mwIJ7q"
      },
      "execution_count": null,
      "outputs": []
    },
    {
      "cell_type": "markdown",
      "source": [
        "##010 練習問題\n",
        "次の処理をコーディングして下さい\n",
        "1. 1000円の商品Aを300円の割引で購入した時の支払い価格を計算して表示させます\n",
        "2. 1500円の商品Bを150円の割引で購入した時の支払い価格を計算して表示させます\n",
        "\n",
        "「合計金額はxx円です。」とf文字列を用いて表示させます\n"
      ],
      "metadata": {
        "id": "fF-AmtZS7_XA"
      }
    },
    {
      "cell_type": "code",
      "source": [
        "price_a  = 1000\n",
        "total1 = price_a + 300\n",
        "print(f\"合計金額は{total1}です\")\n",
        "\n",
        "price_b = 1500\n",
        "total2 = price_b - 150\n",
        "print(f\"合計金額は{total2}です\")"
      ],
      "metadata": {
        "id": "B31s4BdqIaNl"
      },
      "execution_count": null,
      "outputs": []
    },
    {
      "cell_type": "markdown",
      "source": [
        "##011 練習問題\n",
        "次の処理をコーディングして下さい\n",
        "1. 合計金額が3000円でだったとき500円の商品Aをいくつ購入したかを計算して表示させます\n",
        "2. 合計金額が10000円でだったとき2000円の商品Bをいくつ購入したかを計算して表示させます\n",
        "\n",
        "type関数で型を確認します"
      ],
      "metadata": {
        "id": "HthAFcOn7_K7"
      }
    },
    {
      "cell_type": "code",
      "source": [
        "total1 = 3000\n",
        "price_a = 500\n",
        "qty1 = total1 / price_a\n",
        "print(qty1)\n",
        "print(type(qty1))\n",
        "\n",
        "total2 = 10000\n",
        "price_b = 2000\n",
        "qty2 = total2 / price_b\n",
        "print(qty2)\n",
        "print(type(qty2))"
      ],
      "metadata": {
        "id": "pLipodvHIoEj"
      },
      "execution_count": null,
      "outputs": []
    },
    {
      "cell_type": "markdown",
      "source": [
        "##012 練習問題\n",
        "次の処理をコーディングして下さい\n",
        "1. 10000円で400円の商品Aをいくつ買えるかを表示させます\n",
        "2. 15000円で3000円の商品Bをいくつ買えるかを表示させます\n",
        "\n",
        "「購入可能数はxx個です。」とf文字列を用いて表示させます"
      ],
      "metadata": {
        "id": "RqFqXwmT7_Cw"
      }
    },
    {
      "cell_type": "code",
      "source": [
        "cash = 10000\n",
        "price_a = 400\n",
        "qty1 = cash / price_a\n",
        "print(f\"購入可能数は{qty1}です\")\n",
        "\n",
        "cash = 15000\n",
        "price_b = 3000\n",
        "qty2 = cash / price_b\n",
        "print(f\"購入可能数は{qty2}です\")"
      ],
      "metadata": {
        "id": "Tj-EHx_nJaLv"
      },
      "execution_count": null,
      "outputs": []
    },
    {
      "cell_type": "markdown",
      "source": [
        "##013 練習問題\n",
        "次の処理をコーディングして下さい\n",
        "1. 15枚のピザを5人で分けた時の残りの枚数を表示させます\n",
        "2. 20個に分割した羊羹を6人で分けた時に残る個数を表示させます\n",
        "\n",
        "「残りはxx個です。」とf文字列を用いて表示させます"
      ],
      "metadata": {
        "id": "Er6rTP_q7-9T"
      }
    },
    {
      "cell_type": "code",
      "source": [
        "quantity1 = 15\n",
        "pepole1 = 5\n",
        "remains1 = quantity1 % pepole1\n",
        "print(f\"残りは{remains1}です\")\n",
        "\n",
        "quantity2 = 20\n",
        "pepole2 = 6\n",
        "remains2 = quantity2 % pepole2\n",
        "print(f\"残りは{remains2}です\")"
      ],
      "metadata": {
        "id": "4CI0C48qKNlR"
      },
      "execution_count": null,
      "outputs": []
    },
    {
      "cell_type": "markdown",
      "source": [
        "##014 練習問題\n",
        "次の処理をコーディングして下さい\n",
        "1. 2の10乗を計算して表示する\n",
        "2. 半径5cmの円がある, 定数PI=3.14と定義して面積を表示する\n",
        "\n",
        "「面積はxxcm2です。 」とf文字列を用いて表示させます"
      ],
      "metadata": {
        "id": "AQ3DLRLt7-4G"
      }
    },
    {
      "cell_type": "code",
      "source": [
        "a = 2 ** 10\n",
        "print(a)\n",
        "\n",
        "PI = 3.14\n",
        "radius = 5\n",
        "area = PI * radius ** 2\n",
        "print(f\"面積は{area}です\")"
      ],
      "metadata": {
        "id": "XGSdi7qpLPR7"
      },
      "execution_count": null,
      "outputs": []
    },
    {
      "cell_type": "markdown",
      "source": [
        "##015 練習問題\n",
        "次の処理をコーディングして下さい\n",
        "1. 500円の商品Aを3つ, 800円の商品Bを5つ購入した時の合計額を計算して表示させます\n",
        "2. 1500円の商品Cを5つ, 3000円の商品Dを3つ購入した時の合計額を計算して表示させます\n",
        "\n",
        "「合計金額はxx円です。」とスペースを空けずに表示させます"
      ],
      "metadata": {
        "id": "hLnbAtpt7-zO"
      }
    },
    {
      "cell_type": "code",
      "source": [
        "price_a = 500\n",
        "price_b = 800\n",
        "total1 = price_a * 3 + price_b * 5\n",
        "print(f\"合計金額は{total1}円です\")\n",
        "\n",
        "price_c = 1500\n",
        "price_d = 3000\n",
        "total2 = price_c * 5 + price_d * 3\n",
        "print(f\"合計金額は{total2}円です\")"
      ],
      "metadata": {
        "id": "CpK-M5fTLyfQ"
      },
      "execution_count": null,
      "outputs": []
    },
    {
      "cell_type": "markdown",
      "source": [
        "##016 練習問題\n",
        "次の処理をコーディングして下さい\n",
        "1. 1000 * 2 + 400 / 10 - 5 * 2 ** 3の結果を表示させます\n",
        "2. (100 + 300) * 3 / 4 // 100の結果を表示させます\n",
        "\n",
        "どのような順番で計算されるのか()を使って見やすくして下さい"
      ],
      "metadata": {
        "id": "GCDJwzYc7-uR"
      }
    },
    {
      "cell_type": "code",
      "source": [
        "print(1000 * 2 + 400 / 10 - 5 * 2 ** 3)\n",
        "print((1000 * 2) + (400 / 10) - (5 * (2 ** 3)))\n",
        "\n",
        "print((100 + 300) * 3 / 4 // 100)\n",
        "print((((100 + 300) * 3) / 4) // 100)"
      ],
      "metadata": {
        "id": "nPc_p8wuMVAv"
      },
      "execution_count": null,
      "outputs": []
    },
    {
      "cell_type": "markdown",
      "source": [
        "##017 練習問題\n",
        "次の処理をコーディングして下さい\n",
        "1. 文字列：”合計は”,文字列：”1000”, 文字列：”円です。”を＋演算子で結合して表示させます\n",
        "2. 文字列：”＊”を掛け算を用いて10個表示させます"
      ],
      "metadata": {
        "id": "1JYXFQlJ7-pu"
      }
    },
    {
      "cell_type": "code",
      "source": [
        "print(\"合計は\" + \"1000\" + \"円です\")\n",
        "\n",
        "print(\"＊\" * 10)"
      ],
      "metadata": {
        "id": "DHKZEnw1NGmh"
      },
      "execution_count": null,
      "outputs": []
    },
    {
      "cell_type": "markdown",
      "source": [
        "##018 練習問題\n",
        "次の処理をコーディングして下さい\n",
        "1. 1000円の商品Aを2回購入する\n",
        "2. 500円の商品Bを3回購入する\n",
        "\n",
        "購入ごとに累算代入演算子を用いて合計金額を表示させます"
      ],
      "metadata": {
        "id": "kb3Qb__o7-kx"
      }
    },
    {
      "cell_type": "code",
      "source": [
        "price_a = 1000\n",
        "total1 = 0\n",
        "total1 += price_a\n",
        "total1 += price_a\n",
        "print(total1)\n",
        "\n",
        "price_b = 500\n",
        "total2 = 0\n",
        "total2 += price_b\n",
        "total2 += price_b\n",
        "total2 += price_b\n",
        "print(total2)"
      ],
      "metadata": {
        "id": "p0OzErVNNdwJ"
      },
      "execution_count": null,
      "outputs": []
    },
    {
      "cell_type": "markdown",
      "source": [
        "##019 練習問題\n",
        "次の処理をコーディングして下さい\n",
        "1. 500円の商品Aを3回購入する\n",
        "5000円から購入ごとに累算代入演算子を用いて残金を表示させます\n",
        "2. 1500円の商品Bを2回購入する10000円から購入ごとに累算代入演算子を用いて残金を表示させます\n"
      ],
      "metadata": {
        "id": "ja4MyeMs7-fH"
      }
    },
    {
      "cell_type": "code",
      "source": [
        "price_a = 500\n",
        "cash1 = 5000\n",
        "cash1 -= price_a\n",
        "cash1 -= price_a\n",
        "cash1 -= price_a\n",
        "print(cash1)\n",
        "\n",
        "price_b = 1500\n",
        "cash2 = 10000\n",
        "cash2 -= price_b\n",
        "cash2 -= price_b\n",
        "cash2 -= price_b\n",
        "print(cash2)"
      ],
      "metadata": {
        "id": "ExC7KbW2N8ot"
      },
      "execution_count": null,
      "outputs": []
    },
    {
      "cell_type": "markdown",
      "source": [
        "##020 練習問題\n",
        "次の処理をコーディングして下さい\n",
        "1. 変数 a = 10 と b = 10 が等しいことを判定し、結果Trueを出力させてください\n",
        "2. 変数 x = 15 と y = 20 が異なることを判定し、結果Trueを出力させてください"
      ],
      "metadata": {
        "id": "ziJgzQe27-ZP"
      }
    },
    {
      "cell_type": "code",
      "source": [
        "a = 10\n",
        "b = 10\n",
        "print(a == b)\n",
        "\n",
        "x =15\n",
        "y = 20\n",
        "print(x != y)"
      ],
      "metadata": {
        "id": "GqnMFh9KOcu4"
      },
      "execution_count": null,
      "outputs": []
    },
    {
      "cell_type": "markdown",
      "source": [
        "##021 練習問題\n",
        "次の処理をコーディングして下さい\n",
        "1. 変数 num1 = 25 が num2 = 18 より大きいことを判定しTrue を出力させてください\n",
        "2. 変数 a = 7 が b = 12 より小さいことを判定しTrue を出力させて下さい"
      ],
      "metadata": {
        "id": "MsPuKCrC7-T7"
      }
    },
    {
      "cell_type": "code",
      "source": [
        "num1 = 25\n",
        "num2 = 18\n",
        "print(num1 > num2)\n",
        "\n",
        "a = 7\n",
        "b = 12\n",
        "print(a < b)"
      ],
      "metadata": {
        "id": "_D_1sm0FO8Us"
      },
      "execution_count": null,
      "outputs": []
    },
    {
      "cell_type": "markdown",
      "source": [
        "##022 練習問題\n",
        "次の処理をコーディングして下さい\n",
        "1. 変数 x = 50 が y = 50 以上であることを判定しTrue を出力させてください\n",
        "2. 変数 m = 8 が n = 20 以下であることを判定しTrue を出力させてください"
      ],
      "metadata": {
        "id": "5m206IXy7-O6"
      }
    },
    {
      "cell_type": "code",
      "source": [
        "x = 50\n",
        "y = 50\n",
        "print(x >= y)\n",
        "\n",
        "m = 8\n",
        "n = 20\n",
        "print(m <= n)"
      ],
      "metadata": {
        "id": "Fkrg5weYPN-v"
      },
      "execution_count": null,
      "outputs": []
    },
    {
      "cell_type": "markdown",
      "source": [
        "##023 練習問題\n",
        "次の処理をコーディングして下さい\n",
        "1. 変数 s1 = “apple” と s2 = “apple” が同じ文字列であることを判定し結果を出力させて下さい\n",
        "2. 変数 word1 = \"hello\" と word2 = \"world\" が異なる文字列であることを判定し結果を出力させて下さい"
      ],
      "metadata": {
        "id": "GfC_0sGq7-Jy"
      }
    },
    {
      "cell_type": "code",
      "source": [
        "s1 = \"apple\"\n",
        "s2 = \"apple\"\n",
        "print(s1 == s2)\n",
        "\n",
        "word1 = \"hello\"\n",
        "word2 = \"world\"\n",
        "print(word1 != word2)"
      ],
      "metadata": {
        "id": "JwlGwcNHPaKJ"
      },
      "execution_count": null,
      "outputs": []
    },
    {
      "cell_type": "markdown",
      "source": [
        "##024 練習問題\n",
        "次の処理をコーディングして下さい\n",
        "1. リスト list1 = [1, 2, 3] と list2 = [1, 2, 3] の内容が完全に一致することを判定し結果を出力させて下さい\n",
        "2. リスト items1 = [“a”, “b”, “c”] と items2 = [“a”, “b”, “d”] が異なることを判定して結果を表示させて下さい"
      ],
      "metadata": {
        "id": "KeS-thAw7-Eg"
      }
    },
    {
      "cell_type": "code",
      "source": [
        "list1 = [1, 2, 3]\n",
        "list2 = [1, 2, 3]\n",
        "print(list1 == list2)\n",
        "\n",
        "items1 = [\"a\", \"b\", \"c\"]\n",
        "items2 = [\"a\", \"b\", \"d\"]\n",
        "print(items1 != items2)"
      ],
      "metadata": {
        "id": "nj07Cm4zPzDS"
      },
      "execution_count": null,
      "outputs": []
    },
    {
      "cell_type": "markdown",
      "source": [
        "##025 練習問題\n",
        "次の処理をコーディングして下さい\n",
        "1. 変数 fruits = [“apple”, “banana”, “cherry”, “grape”] に “banana” が含まれていることをを判定し結果を表示して下さい\n",
        "2. 変数 numbers = [10, 20, 30, 40, 50] に 25 が含まれていなことを判定し結果を表示して下さい"
      ],
      "metadata": {
        "id": "irQYWJM-79_c"
      }
    },
    {
      "cell_type": "code",
      "source": [
        "fruits = [\"apple\", \"banana\", \"cherry\", \"grape\"]\n",
        "print(\"banana\" in fruits)\n",
        "\n",
        "numbers = [10, 20, 30, 40, 50]\n",
        "print(25 not in numbers)"
      ],
      "metadata": {
        "id": "cV3TMrceQMAR"
      },
      "execution_count": null,
      "outputs": []
    },
    {
      "cell_type": "markdown",
      "source": [
        "##026 練習問題\n",
        "次の処理をコーディングして下さい\n",
        "1. 変数 x = 45, y = 200 のとき、x が100以下かつ y が200以上を判定し結果を表示して下さい\n",
        "2. 変数 name1 = \"Yamada\"、name2 = \"Suzuki\" のとき、name1 が \"Yamada\" かつ name2 が \"Suzuki\" である場合に True を出力するプログラムを作成してください"
      ],
      "metadata": {
        "id": "DGkygEjU796H"
      }
    },
    {
      "cell_type": "code",
      "source": [
        "x = 45\n",
        "y = 200\n",
        "print(x <= 100 and y >= 100)\n",
        "\n",
        "name1 = \"Yamada\"\n",
        "name2 = \"Suzuki\"\n",
        "print(name1 == \"Yamada\" and name2 == \"Suzuki\")"
      ],
      "metadata": {
        "id": "5kTxGwqDRYQ7"
      },
      "execution_count": null,
      "outputs": []
    },
    {
      "cell_type": "markdown",
      "source": [
        "##027 練習問題\n",
        "次の処理をコーディングして下さい\n",
        "1. 変数 x = 8、y = 12 のとき、x または y のどちらかが 10 以上であることを判定し結果を表示して下さい\n",
        "2. 変数 word1 = “dog”、word2 = “cat” のとき、word1 が “dog” または word2 が “rabbit” であることを判定して結果を表示して下さい"
      ],
      "metadata": {
        "id": "bvhbLyV9791W"
      }
    },
    {
      "cell_type": "code",
      "source": [
        "x = 8\n",
        "y = 12\n",
        "print(x > 10 or y > 10)\n",
        "\n",
        "word1 = \"dog\"\n",
        "word2 = \"cat\"\n",
        "print(word1 == \"dog\" or word2 == \"rabbit\")"
      ],
      "metadata": {
        "id": "xTDSbKc-SZhC"
      },
      "execution_count": null,
      "outputs": []
    },
    {
      "cell_type": "markdown",
      "source": [
        "##028 練習問題\n",
        "次の処理をコーディングして下さい\n",
        "1. 変数 num = 11 のとき、num が 10 以下 でない 場合に True を出力させてください\n",
        "2. 変数 animal = “elephant” のとき、animal が “dog” で ない 場合に True を出力させて下さい"
      ],
      "metadata": {
        "id": "kYL1D8CT79v7"
      }
    },
    {
      "cell_type": "code",
      "source": [
        "num = 11\n",
        "print(not(num < 10))\n",
        "\n",
        "animal = \"elephant\"\n",
        "print(not(animal == \"dog\"))"
      ],
      "metadata": {
        "id": "cHaZY_VoS1nl"
      },
      "execution_count": null,
      "outputs": []
    },
    {
      "cell_type": "markdown",
      "source": [
        "##029 練習問題\n",
        "次の処理をコーディングして下さい\n",
        "1. 変数 num に任意の整数が代入されています。num が０である場合に “ゼロです” と出力します\n",
        "2. 変数 age に年齢（整数）が代入されています。age が 18 以上なら “成人”、そうでなければ “未成年” と出力して下さい"
      ],
      "metadata": {
        "id": "_LvhvEyR79rK"
      }
    },
    {
      "cell_type": "code",
      "source": [
        "num = 0\n",
        "if num == 0:\n",
        "    print(\"ゼロです\")\n",
        "\n",
        "age = 18\n",
        "if age >= 18:\n",
        "    print(\"成人\")\n",
        "else:\n",
        "    print(\"未成年\")"
      ],
      "metadata": {
        "id": "803ADFdETE62"
      },
      "execution_count": null,
      "outputs": []
    },
    {
      "cell_type": "markdown",
      "source": [
        "##030 練習問題\n",
        "次の処理をコーディングして下さい\n",
        "1. 変数 num1 に任意の整数が代入されています。num1 が 0 以上なら “ゼロまたは正の数”、0 未満なら “負の数” と出力して下さい\n",
        "2. 変数 num2 に任意の整数が代入されています。num2 が偶数である場合に “Even”、奇数の場合に\"Odd\" と出力して下さい"
      ],
      "metadata": {
        "id": "3rGCOWrO79mn"
      }
    },
    {
      "cell_type": "code",
      "source": [
        "num1 = 0\n",
        "if num1 >= 0:\n",
        "    print(\"ゼロまたは正\")\n",
        "else:\n",
        "    print(\"負の数\")\n",
        "\n",
        "num2 = 2\n",
        "if num2 % 2 == 0:\n",
        "    print(\"Even\")\n",
        "else:\n",
        "    print(\"Odd\")"
      ],
      "metadata": {
        "id": "ZZvGRGNpTgrp"
      },
      "execution_count": null,
      "outputs": []
    },
    {
      "cell_type": "markdown",
      "source": [
        "##031 練習問題\n",
        "次の処理をコーディングして下さい\n",
        "変数 temp に摂氏の温度が代入されています\n",
        "以下の基準で出力させてください\n",
        "- 30 度以上なら \"Hot\"\n",
        "- 20 以上なら \"Warm\"\n",
        "- 10 以上なら \"Cool\"\n",
        "- それ未満なら \"Cold\""
      ],
      "metadata": {
        "id": "3s-Q79JI79iG"
      }
    },
    {
      "cell_type": "code",
      "source": [
        "temp = 15\n",
        "if temp >= 30:\n",
        "    print(\"Hot\")\n",
        "elif temp >= 20:\n",
        "    print(\"Warm\")\n",
        "elif temp >= 10:\n",
        "    print(\"Cold\")\n",
        "else:\n",
        "    print(\"Cool\")"
      ],
      "metadata": {
        "id": "1GjnbufnVQsW"
      },
      "execution_count": null,
      "outputs": []
    },
    {
      "cell_type": "markdown",
      "source": [
        "##032 練習問題\n",
        "次の処理をコーディングして下さい\n",
        "1. num が 3 の倍数で、さらに num が 7 の倍数なら “21倍数”、そうでなければ “21の倍数以外です” を出力させて下さい\n",
        "2. is_member が Trueで、さらに amount が 10000なら “送料無料”、そうでなければ “送料500円” を出力させて下さい。さらにis_memberがFalseの場合は\"会員ではありません\"と表示させて下さい"
      ],
      "metadata": {
        "id": "vz0j4geR79dg"
      }
    },
    {
      "cell_type": "code",
      "source": [
        "num = 21\n",
        "if num % 3 == 0:\n",
        "    if num % 7 == 0:\n",
        "        print(\"21の倍数です\")\n",
        "    else:\n",
        "        print(\"21の倍数以外です\")\n",
        "\n",
        "is_member = False\n",
        "amount = 500\n",
        "if is_member:\n",
        "    if amount > 10000:\n",
        "        print(\"送料無料\")\n",
        "    else:\n",
        "        print(\"送料500円\")\n",
        "else:\n",
        "    print(\"会員ではありません\")"
      ],
      "metadata": {
        "id": "4PDjaEUVVrLu"
      },
      "execution_count": null,
      "outputs": []
    },
    {
      "cell_type": "markdown",
      "source": [
        "##033 練習問題\n",
        "次の処理をコーディングして下さい\n",
        "1. 文字列”Hello”を5回表示させて下さい\n",
        "2. 20から30までの数字を表示させて下さい"
      ],
      "metadata": {
        "id": "rrdI5ex179Zk"
      }
    },
    {
      "cell_type": "code",
      "source": [
        "for _ in range(5):\n",
        "    print(\"Hello\")\n",
        "\n",
        "for i in range(20, 31):\n",
        "    print(i)"
      ],
      "metadata": {
        "id": "CuyRnLJ6XA1P"
      },
      "execution_count": null,
      "outputs": []
    },
    {
      "cell_type": "markdown",
      "source": [
        "##034 練習問題\n",
        "次の処理をコーディングして下さい\n",
        "1. words = [“apple”, “banana”, “cherry”] というリストを作成し、リスト内のすべての要素を表示させて下さい\n",
        "2. numbers = [12, 45, 23, 89, 56] というリストを作成し、要素の最大値を求めて出力させて下さい"
      ],
      "metadata": {
        "id": "u6vAk6mo79VV"
      }
    },
    {
      "cell_type": "code",
      "source": [
        "words = [\"apple\", \"banana\", \"cherry\"]\n",
        "for word in words:\n",
        "    print(word)\n",
        "\n",
        "numbers = [12, 45, 23, 89, 56]\n",
        "max_value = 0\n",
        "for number in numbers:\n",
        "    if number > max_value:\n",
        "        max_value = number\n",
        "print(max_value)"
      ],
      "metadata": {
        "id": "jHTjpx7wXOA6"
      },
      "execution_count": null,
      "outputs": []
    },
    {
      "cell_type": "markdown",
      "source": [
        "##035 練習問題\n",
        "次の処理をコーディングして下さい<br >\n",
        "○を5列x5行で表示させて下さい<br >\n",
        "(ヒント)<br >\n",
        "print関数で改行をさせないようにするにはprint関数にend=”を追加する\n",
        "横に５個表示したら改行する"
      ],
      "metadata": {
        "id": "Q0GZzR3g79RZ"
      }
    },
    {
      "cell_type": "code",
      "source": [
        "for i in range(5):\n",
        "    for j in range(5):\n",
        "        print(\"◯\", end=\"\")\n",
        "        if j >= 4:\n",
        "            print()"
      ],
      "metadata": {
        "id": "UovX_mP8YM2m"
      },
      "execution_count": null,
      "outputs": []
    },
    {
      "cell_type": "markdown",
      "source": [
        "##036 練習問題\n",
        "次の処理をコーディングして下さい\n",
        "1. numbers = [11, 99, 100, 103, 20] というリストの中で、最初に 100より大きい値が出たら break してループを終了させる\n",
        "2. 1 から 100 までの整数を順番に出力するが10以上になればbreakしてループを終了させる"
      ],
      "metadata": {
        "id": "gAlBqJhb79NI"
      }
    },
    {
      "cell_type": "code",
      "source": [
        "numbers = [11, 99, 100, 103, 20]\n",
        "for number in numbers:\n",
        "    if number > 100:\n",
        "        break\n",
        "    print(number)\n",
        "\n",
        "for i in range(1,101):\n",
        "    if i == 10:\n",
        "        break\n",
        "    print(i)\n"
      ],
      "metadata": {
        "id": "8NcE7CGgYsWR"
      },
      "execution_count": null,
      "outputs": []
    },
    {
      "cell_type": "markdown",
      "source": [
        "##037 練習問題\n",
        "次の処理をコーディングして下さい\n",
        "1. 1 から 10 までの整数を for 文でループし、奇数の場合は continue を使ってスキップし、偶数のみを出力させて下さい\n",
        "2. 1 から 20 までの整数を for 文でループし、3 の倍数のときは continue を使ってスキップし、それ以外の数値を出力させて下さい"
      ],
      "metadata": {
        "id": "oyYF1W6p79Ju"
      }
    },
    {
      "cell_type": "code",
      "source": [
        "for i in range(1, 11):\n",
        "    if i % 2 != 0:\n",
        "        continue\n",
        "    print(i)\n",
        "\n",
        "for j in range(1, 21):\n",
        "    if j % 3 == 0:\n",
        "        continue\n",
        "    print(j)"
      ],
      "metadata": {
        "id": "Xah5psWNZadB"
      },
      "execution_count": null,
      "outputs": []
    },
    {
      "cell_type": "markdown",
      "source": [
        "##038 練習問題\n",
        "次の処理をコーディングして下さい\n",
        "1. 変数 num を 1 に初期化し、10以上になるまでnum を出力し、1 ずつ増やしながら繰り返す処理を作成して下さい\n",
        "2. 条件式でユーザーが “yes” と入力したのを判定してループを抜ける処理を作成して下さい"
      ],
      "metadata": {
        "id": "VZYeUNEc79F3"
      }
    },
    {
      "cell_type": "code",
      "source": [
        "num = 1\n",
        "while num <= 10:\n",
        "    print(num)\n",
        "    num += 1\n",
        "\n",
        "word = \"\"\n",
        "while word != \"yes\":\n",
        "    word = input(\"文字を入力して下さい\")\n",
        "print(\"yesが入力されました\")"
      ],
      "metadata": {
        "id": "uPtPD8DoZ2Xg"
      },
      "execution_count": null,
      "outputs": []
    },
    {
      "cell_type": "markdown",
      "source": [
        "##039 練習問題\n",
        "次の処理をコーディングして下さい\n",
        "1. 標準入力から果物の名前を入力させて入力された果物を表示させます 「end」が入力されるとループを抜けます\n",
        "2. 10 から 1 までカウントダウンし、最後に ”Go!!“ を出力してループを抜けます"
      ],
      "metadata": {
        "id": "PA_pbb5t79CP"
      }
    },
    {
      "cell_type": "code",
      "source": [
        "while True:\n",
        "    word = input(\"果物を入力して下さい\")\n",
        "    if word == \"end\":\n",
        "        break\n",
        "    print(word)\n",
        "\n",
        "count = 10\n",
        "while True:\n",
        "    print(count)\n",
        "    if count == 1:\n",
        "        print(\"Go!!\")\n",
        "        break\n",
        "    count -= 1"
      ],
      "metadata": {
        "id": "4RA0hePeao0d"
      },
      "execution_count": null,
      "outputs": []
    },
    {
      "cell_type": "markdown",
      "source": [
        "##040 練習問題\n",
        "次の処理をコーディングして下さい\n",
        "1. print() を使って 5 + 3 の計算結果を出力するプログラムを書いてください\n",
        "2. 変数 name = “田中” を定義し、print() を使って “私は田中です” という文を出力させて下さい(いくつか方法があります）"
      ],
      "metadata": {
        "id": "Nsk_FcN478-8"
      }
    },
    {
      "cell_type": "code",
      "source": [
        "print(5 + 3)\n",
        "\n",
        "name = \"田中\"\n",
        "print(\"私は\"+name+\"です\")\n",
        "print(\"私は\", name, \"です\")\n",
        "print(f\"私は{name}です\")"
      ],
      "metadata": {
        "id": "iNcpGCyhblEP"
      },
      "execution_count": null,
      "outputs": []
    },
    {
      "cell_type": "markdown",
      "source": [
        "##041 練習問題\n",
        "次の処理をコーディングして下さい\n",
        "1. print() を使ってリストnumbers=[1,2,3,4,5]をスペース区切りで横１列に出力させて下さい\n",
        "2. print() を使ってfruites=[\"Apple\", \"Banana\", \"Cherry\"]をカンマ区切りで横１列に出力させて下さい"
      ],
      "metadata": {
        "id": "qe3fCGlv787L"
      }
    },
    {
      "cell_type": "code",
      "source": [
        "numbers = [1, 2, 3, 4, 5]\n",
        "for number in numbers:\n",
        "    print(number, end=\" \")\n",
        "\n",
        "print()\n",
        "fruits = [\"Apple\", \"Banana\", \"Cherry\"]\n",
        "for fruit in fruits:\n",
        "    print(fruit, end=\",\")"
      ],
      "metadata": {
        "id": "3Cnbr52CcEBt"
      },
      "execution_count": null,
      "outputs": []
    },
    {
      "cell_type": "markdown",
      "source": [
        "##042 練習問題\n",
        "次の処理をコーディングして下さい\n",
        "1. print() を使って “Python”, “Java”, “C++” を ハイフン（-）区切りで 出力させて下さい\n",
        "2. print() を使って “Line1”, “Line2”, “Line3” を スペース区切りで出力させて下さい"
      ],
      "metadata": {
        "id": "kluxy0FJ7837"
      }
    },
    {
      "cell_type": "code",
      "source": [
        "print(\"Python\", \"Java\", \"C++\", sep=\"-\")\n",
        "\n",
        "print(\"Line1\", \"Line2\", \"Line3\", sep=\" \")"
      ],
      "metadata": {
        "id": "LjVnoziAcXxl"
      },
      "execution_count": null,
      "outputs": []
    },
    {
      "cell_type": "markdown",
      "source": [
        "##043 練習問題\n",
        "次の処理をコーディングして下さい\n",
        "1. 標準入力から「100」を入力して値と型を表示させて下さい\n",
        "2. 標準入力から「こんにちは」を入力して値と型を表示させて下さい"
      ],
      "metadata": {
        "id": "9Cgf-8oJ78zw"
      }
    },
    {
      "cell_type": "code",
      "source": [
        "number = input(\"数字を入力して下さい\")\n",
        "print(number)\n",
        "print(type(number))\n",
        "\n",
        "word = input(\"文字を入力して下さい\")\n",
        "print(word)\n",
        "print(type(word))"
      ],
      "metadata": {
        "id": "h6DlMSJJ7z8_"
      },
      "execution_count": null,
      "outputs": []
    }
  ]
}