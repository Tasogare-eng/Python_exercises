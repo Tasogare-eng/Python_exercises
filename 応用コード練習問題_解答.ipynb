{
  "nbformat": 4,
  "nbformat_minor": 0,
  "metadata": {
    "colab": {
      "provenance": [],
      "collapsed_sections": [
        "x53F-biN_YhK",
        "-JlsZy4g_YW2",
        "mQHawk2B_YRR",
        "mCSRtRDE_YMA",
        "uMb0yVv7_YGd",
        "PrJt6VFS_YAp",
        "hyMOVMUO_X6q",
        "EacdI_6v_X07",
        "MAM8F0Id_Xu3",
        "GTI26vEU_XpE",
        "J7OShJwG_XdO",
        "xpfyn6uK_XXM",
        "PXZt3z9J_XR1",
        "XuXyiZPP_XMy",
        "pB_LePU__XIP",
        "DbLF3wgz_XDb",
        "p3tVEhE1_W_F",
        "cfR83HtS_W7B",
        "vmYj3snS_W2_",
        "5qP-MUaF_WzH",
        "4kzEfhbC_WvY",
        "uBOMC8-u_WrZ",
        "BeXL3arL_Wnn",
        "GzgB4PJy_WkJ",
        "T4B7FIbn_Wge",
        "neHLlM1v_WdF",
        "GatCJeaT_WZV",
        "wjunWxMX_WV1",
        "l5hg9SN7_WRS",
        "NKSA18rI_WHV",
        "JMrbMy3ZBsq-",
        "sJlcJdAhBpkV",
        "hrSWxP87BqHU",
        "GyAeEVVlBsON",
        "8xkOcGR9B-dX",
        "xnM3nTjXB-N9"
      ],
      "authorship_tag": "ABX9TyNV7fwcx/iHgnCns/nzHeIO",
      "include_colab_link": true
    },
    "kernelspec": {
      "name": "python3",
      "display_name": "Python 3"
    },
    "language_info": {
      "name": "python"
    }
  },
  "cells": [
    {
      "cell_type": "markdown",
      "metadata": {
        "id": "view-in-github",
        "colab_type": "text"
      },
      "source": [
        "<a href=\"https://colab.research.google.com/github/Tasogare-eng/Python_exercises/blob/main/%E5%BF%9C%E7%94%A8%E3%82%B3%E3%83%BC%E3%83%89%E7%B7%B4%E7%BF%92%E5%95%8F%E9%A1%8C_%E8%A7%A3%E7%AD%94.ipynb\" target=\"_parent\"><img src=\"https://colab.research.google.com/assets/colab-badge.svg\" alt=\"Open In Colab\"/></a>"
      ]
    },
    {
      "cell_type": "markdown",
      "source": [
        "##001 練習問題\n",
        "次の処理をコーディングして下さい\n",
        "1. 1から5までの数字を1行ずつ表示する関数 `print_numbers()` を定義し、実行してください\n",
        "2.「Pythonマスターするぞ！」と表示する関数 `study_message()` を定義し、実行してください"
      ],
      "metadata": {
        "id": "x53F-biN_YhK"
      }
    },
    {
      "cell_type": "code",
      "source": [
        "def print_numbers():\n",
        "    for i in range(1,5):\n",
        "        print(i)\n",
        "\n",
        "print_numbers()\n",
        "\n",
        "def study_message():\n",
        "    print(\"Pythonマスターするぞ！\")\n",
        "\n",
        "study_message()"
      ],
      "metadata": {
        "id": "wEMSrzh8efXG"
      },
      "execution_count": null,
      "outputs": []
    },
    {
      "cell_type": "markdown",
      "source": [
        "##002 練習問題\n",
        "次の処理をコーディングして下さい\n",
        "1. 2つの数を受け取り、その合計を表示する関数 `sum_numbers(a, b)` を作成し、任意の2つの数で実行してください\n",
        "2.「〇〇さんの年齢は△△歳です。」と表示する関数 `show_age(name, age)` を作成し、任意の名前と年齢で実行してください"
      ],
      "metadata": {
        "id": "-JlsZy4g_YW2"
      }
    },
    {
      "cell_type": "code",
      "source": [
        "def sum_numbers(a, b):\n",
        "    print(a + b)\n",
        "\n",
        "sum_numbers(3, 4)\n",
        "\n",
        "def show_age(name, age):\n",
        "    print(f\"{name}さんの年齢は{age}です。\")\n",
        "\n",
        "show_age(\"Yamada\", 30)"
      ],
      "metadata": {
        "id": "gFxo1wcufN5R"
      },
      "execution_count": null,
      "outputs": []
    },
    {
      "cell_type": "markdown",
      "source": [
        "##003 練習問題\n",
        "次の処理をコーディングして下さい\n",
        "1. 底辺と高さを受け取り、三角形の面積を返す関数 `triangle_area(b, h)` を作成し、任意の数で実行してください。\n",
        "2. 半径を受け取り、円の面積を返す関数 `circle_area(radius)` を作成し、任意の半径で実行してください"
      ],
      "metadata": {
        "id": "mQHawk2B_YRR"
      }
    },
    {
      "cell_type": "code",
      "source": [
        "def triangle_area(b, h):\n",
        "    return (b * h) / 2\n",
        "\n",
        "print(triangle_area(5, 10))\n",
        "\n",
        "def circule_area(radius):\n",
        "    return 3.14 * radius ** 2\n",
        "\n",
        "print(circule_area(5))"
      ],
      "metadata": {
        "id": "oQ8IkDsBfplo"
      },
      "execution_count": null,
      "outputs": []
    },
    {
      "cell_type": "markdown",
      "source": [
        "##004 練習問題\n",
        "次の処理をコーディングして下さい\n",
        "1. 数値を受け取り、それを2倍にして表示する関数`double(num=1)`を作成し、引数あり・なし両方で実行してください\n",
        "2. 3つの数を受け取り、それらの合計を表示する関 `sum_numbers(a=1, b=1, c=1)`を作成し、引数を指定せず、または一部指定して実行してください"
      ],
      "metadata": {
        "id": "mCSRtRDE_YMA"
      }
    },
    {
      "cell_type": "code",
      "source": [
        "def double(num=1):\n",
        "    print(num * 2)\n",
        "\n",
        "double()\n",
        "double(100)\n",
        "\n",
        "def sum_numbers(a=1, b=1, c=1):\n",
        "    print(a + b + c)\n",
        "\n",
        "sum_numbers()\n",
        "sum_numbers(10)\n",
        "sum_numbers(10, 10)\n",
        "sum_numbers(10, 10, 10)"
      ],
      "metadata": {
        "id": "srZrIjt-gQoq"
      },
      "execution_count": null,
      "outputs": []
    },
    {
      "cell_type": "markdown",
      "source": [
        "##005 練習問題\n",
        "次の処理をコーディングして下さい\n",
        "1. 任意の数の整数を受け取り、それらの合計を表示する関 `sum_numbers(*args)`を作成し、複数の整数を渡して実行してください\n",
        "2. 任意の数の整数を受け取り、最大値を表示する関数`find_max(*args)`を作成してください\n",
        "\n",
        "※組み込み関数は使用しない\n"
      ],
      "metadata": {
        "id": "uMb0yVv7_YGd"
      }
    },
    {
      "cell_type": "code",
      "source": [
        "def sum_numbers(*args):\n",
        "    total = 0\n",
        "    for i in args:\n",
        "        total += i\n",
        "    print(total)\n",
        "\n",
        "sum_numbers(1, 2)\n",
        "sum_numbers(10, 10, 10, 10)\n",
        "\n",
        "def find_max(*args):\n",
        "    max_value = 0\n",
        "    for num in args:\n",
        "        if num > max_value:\n",
        "            max_value = num\n",
        "    print(max_value)\n",
        "\n",
        "find_max(1, 20, 2, 18, 5)\n",
        "find_max(10, 100, 200, 1000)"
      ],
      "metadata": {
        "id": "ygACUu-_hFF0"
      },
      "execution_count": null,
      "outputs": []
    },
    {
      "cell_type": "markdown",
      "source": [
        "##006 練習問題\n",
        "次の処理をコーディングして下さい\n",
        "1. 半径を受け取り、円の面積と円周を同時に返す関 circle_properties(radius)を作成し、結果を2つの変数に代入して表示してください\n",
        "2. ２つの整数を受け取り割り算と商、余りを返すdiv_result(a, b)を作成し、結果を3つの変数に代入して表示してください"
      ],
      "metadata": {
        "id": "PrJt6VFS_YAp"
      }
    },
    {
      "cell_type": "code",
      "source": [
        "def circle_properies(radius):\n",
        "    return (3.14 * radius ** 2), (3.14 * (radius * 2))\n",
        "\n",
        "a, b = circle_properies(5)\n",
        "print(a)\n",
        "print(b)\n",
        "\n",
        "def div_result(a, b):\n",
        "    return (a / b), (a // b), (a % b)\n",
        "\n",
        "x, y ,z = div_result(20, 3)\n",
        "print(x)\n",
        "print(y)\n",
        "print(z)"
      ],
      "metadata": {
        "id": "yxn05lEmiPdZ"
      },
      "execution_count": null,
      "outputs": []
    },
    {
      "cell_type": "markdown",
      "source": [
        "##007 練習問題\n",
        "次の処理をコーディングして下さい\n",
        "変数total_score を関数の外（グローバルで定義し関数add_score(points) の中でtotal_scoreにpointsを加算できるようにしてください"
      ],
      "metadata": {
        "id": "hyMOVMUO_X6q"
      }
    },
    {
      "cell_type": "code",
      "source": [
        "total_score = 0\n",
        "\n",
        "def add_score(points):\n",
        "    global total_score\n",
        "    total_score += points\n",
        "    print(total_score)\n",
        "\n",
        "add_score(100)\n",
        "add_score(500)"
      ],
      "metadata": {
        "id": "lNNsnAKtuuPy"
      },
      "execution_count": null,
      "outputs": []
    },
    {
      "cell_type": "markdown",
      "source": [
        "##008 練習問題\n",
        "次の処理をコーディングして下さい\n",
        "1. リストの範囲外のインデックスにアクセスしようとするとエラーになります。IndexError をキャッチしてエラーメッセージを表示するようにしてください\n",
        "2. 辞書のキーが存在しないデータにアクセスしようとするとエラーになります。KeyError をキャッチしてエラーメッセージを表示するようにしてください"
      ],
      "metadata": {
        "id": "EacdI_6v_X07"
      }
    },
    {
      "cell_type": "code",
      "source": [
        "a = [1, 2, 3]\n",
        "try:\n",
        "    print(a[3])\n",
        "except IndexError:\n",
        "    print(\"範囲外のインデックスを参照しました\")\n",
        "\n",
        "b = {\"apple\": 100, \"grape\": 300}\n",
        "try:\n",
        "     print(b[\"orange\"])\n",
        "except KeyError:\n",
        "    print(\"Keyが見つかりません\")\n"
      ],
      "metadata": {
        "id": "DC33bGOQvQCF"
      },
      "execution_count": null,
      "outputs": []
    },
    {
      "cell_type": "markdown",
      "source": [
        "##009 練習問題\n",
        "次の処理をコーディングして下さい<br >\n",
        "練習内容のコードをすべての例外をキャッチしつつ、発生した例外の種類を表示するように変更してください"
      ],
      "metadata": {
        "id": "MAM8F0Id_Xu3"
      }
    },
    {
      "cell_type": "code",
      "source": [
        "def divid(a, b):\n",
        "    try:\n",
        "        result = a / b\n",
        "        print(f\"結果{result}\")\n",
        "    except Exception as e:\n",
        "        print(f\"エラー：{e}\")\n",
        "\n",
        "divid(2, 0)\n",
        "divid(\"5\", 3)"
      ],
      "metadata": {
        "id": "EkTDRTwbv1J1"
      },
      "execution_count": null,
      "outputs": []
    },
    {
      "cell_type": "markdown",
      "source": [
        "##010 練習問題\n",
        "次の処理をコーディングして下さい<br>\n",
        "num=[1, 2, 3]のリストを作成し、\n",
        "リストの範囲外のインデックスにアクセスしたときの例外処理をキャッチできるようにします。そして最後にエラーの有無に関係なく「処理は完了しました」と表示するようにして下さい"
      ],
      "metadata": {
        "id": "GTI26vEU_XpE"
      }
    },
    {
      "cell_type": "markdown",
      "source": [],
      "metadata": {
        "id": "1A53B2-X_XjJ"
      }
    },
    {
      "cell_type": "code",
      "source": [
        "num = [1, 2, 3]\n",
        "try:\n",
        "    print(num[3])\n",
        "except IndexError:\n",
        "    print(\"範囲外のインデックスです\")\n",
        "finally:\n",
        "    print(\"処理は完了しました\")"
      ],
      "metadata": {
        "id": "HQDKMnBgwqdD"
      },
      "execution_count": null,
      "outputs": []
    },
    {
      "cell_type": "markdown",
      "source": [
        "##011 練習問題\n",
        "次の処理をコーディングして下さい<br>\n",
        "関数 is_number(value) を作成し、文字列 value に数値以外の文字（0-9以外）が含まれている場合に raise で ValueError を発生させるようにしてください。<br>\n",
        "(ヒント)<br>\n",
        "文字列の“0123456789”と比較して含まれているかを判定する"
      ],
      "metadata": {
        "id": "J7OShJwG_XdO"
      }
    },
    {
      "cell_type": "code",
      "source": [
        "def is_number(value):\n",
        "    if value not in \"0123456789\":\n",
        "        raise ValueError(\"数字以外です\")\n",
        "\n",
        "is_number(\"8\")\n",
        "is_number(\"a\")"
      ],
      "metadata": {
        "id": "UhMe_KmYxEPG"
      },
      "execution_count": null,
      "outputs": []
    },
    {
      "cell_type": "markdown",
      "source": [
        "##012 練習問題\n",
        "次の処理をコーディングして下さい\n",
        "1. 10, 20, 30, 40, 50の５つの要素を含むリストを作成して下さい\n",
        "2. ”C++”, “ruby”, “php”, “Python” の4つの要素を含むリストを作成して下さい"
      ],
      "metadata": {
        "id": "xpfyn6uK_XXM"
      }
    },
    {
      "cell_type": "code",
      "source": [
        "numbers = [10, 20, 30, 40, 50]\n",
        "print(numbers)\n",
        "\n",
        "languages = [\"C++\", \"ruby\", \"php\", \"Python\"]\n",
        "print(languages)\n"
      ],
      "metadata": {
        "id": "MStL25jiyVui"
      },
      "execution_count": null,
      "outputs": []
    },
    {
      "cell_type": "markdown",
      "source": [
        "##013 練習問題\n",
        "次の処理をコーディングして下さい\n",
        "1. 前問のリストから３番目の要素を変数 num に代入して、表示させて下さい\n",
        "2. 前問のリストから最後の要素を変数 lang に代入して、表示させて下さい"
      ],
      "metadata": {
        "id": "PXZt3z9J_XR1"
      }
    },
    {
      "cell_type": "code",
      "source": [
        "num = numbers[2]\n",
        "print(num)\n",
        "\n",
        "lang = languages[3]\n",
        "print(lang)"
      ],
      "metadata": {
        "id": "RetJRoBayqAF"
      },
      "execution_count": null,
      "outputs": []
    },
    {
      "cell_type": "markdown",
      "source": [
        "##014 練習問題\n",
        "次の処理をコーディングして下さい\n",
        "1. 前問のリストから2番目の要素を100に変更して表示して下さい\n",
        "2. 前問のリストから最後の要素を\"Basic\"へ変更して表示して下さい"
      ],
      "metadata": {
        "id": "XuXyiZPP_XMy"
      }
    },
    {
      "cell_type": "code",
      "source": [
        "numbers[1] = 100\n",
        "print(numbers)\n",
        "\n",
        "languages[-1] = \"Basic\"\n",
        "print(languages)"
      ],
      "metadata": {
        "id": "Jag9YRjNy7Ji"
      },
      "execution_count": null,
      "outputs": []
    },
    {
      "cell_type": "markdown",
      "source": [
        "##015 練習問題\n",
        "次の処理をコーディングして下さい\n",
        "1. 前問のリストの2番目に99を追加して下さい\n",
        "2. 前問のリストに「”swift”,”golang”」を追加して下さい"
      ],
      "metadata": {
        "id": "pB_LePU__XIP"
      }
    },
    {
      "cell_type": "code",
      "source": [
        "numbers.insert(1, 99)\n",
        "print(numbers)\n",
        "\n",
        "languages.extend([\"swift\", \"golang\"])\n",
        "print(languages)"
      ],
      "metadata": {
        "id": "rJSUuzgHzpHG"
      },
      "execution_count": null,
      "outputs": []
    },
    {
      "cell_type": "markdown",
      "source": [
        "##016 練習問題\n",
        "次の処理をコーディングして下さい\n",
        "1. 前問のリストから最後の要素を削除して下さい\n",
        "2. 前問のリストから全ての要素を削除して下さい"
      ],
      "metadata": {
        "id": "DbLF3wgz_XDb"
      }
    },
    {
      "cell_type": "code",
      "source": [
        "last_num = numbers.pop()\n",
        "print(last_num)\n",
        "print(numbers)\n",
        "\n",
        "languages.clear()\n",
        "print(languages)"
      ],
      "metadata": {
        "id": "9UdEu6kQ0PFB"
      },
      "execution_count": null,
      "outputs": []
    },
    {
      "cell_type": "markdown",
      "source": [
        "##017 練習問題\n",
        "次の処理をコーディングして下さい\n",
        "1. 次の情報を格納した辞書pricesを作成して下さい\n",
        "- りんご（\"apple\": 150）\n",
        "- バナナ（\"banana\": 100）\n",
        "- ぶどう（\"grape\": 200）\n",
        "2. 次の情報を格納した辞書bookを作成して下さい\n",
        "- タイトル（\"title\": \"Python入門\"）\n",
        "- 著者（\"author\": \"田中太郎\"）\n",
        "- 発行年（\"year\": 2023）"
      ],
      "metadata": {
        "id": "p3tVEhE1_W_F"
      }
    },
    {
      "cell_type": "code",
      "source": [
        "prices = {\"apple\":150, \"banana\":100, \"grape\":200}\n",
        "print(prices)\n",
        "\n",
        "book = {\"title\": \"Python入門\", \"author\": \"田中太郎\", \"year\":2023}\n",
        "print(book)"
      ],
      "metadata": {
        "id": "v5mBUlV30txP"
      },
      "execution_count": null,
      "outputs": []
    },
    {
      "cell_type": "markdown",
      "source": [
        "##018 練習問題\n",
        "次の処理をコーディングして下さい\n",
        "1. 前問の辞書から”banana”の値を変数 banana_priceに代入して、表示させてください\n",
        "2. 前問の辞書から”title”の値を変数 titleに代入して、表示させてください"
      ],
      "metadata": {
        "id": "cfR83HtS_W7B"
      }
    },
    {
      "cell_type": "code",
      "source": [
        "banana_price = prices[\"banana\"]\n",
        "print(banana_price)\n",
        "\n",
        "title = book[\"title\"]\n",
        "print(title)"
      ],
      "metadata": {
        "id": "kuenCIY11LEe"
      },
      "execution_count": null,
      "outputs": []
    },
    {
      "cell_type": "markdown",
      "source": [
        "##019 練習問題\n",
        "次の処理をコーディングして下さい\n",
        "1. 前問の辞書の”banana”の値を300に変更して下さい\n",
        "2. 前問の辞書の発行年を2024に変更して下さい"
      ],
      "metadata": {
        "id": "vmYj3snS_W2_"
      }
    },
    {
      "cell_type": "code",
      "source": [
        "prices[\"banana\"] = 300\n",
        "print(prices)\n",
        "\n",
        "book[\"year\"] = 2024\n",
        "print(book)"
      ],
      "metadata": {
        "colab": {
          "base_uri": "https://localhost:8080/"
        },
        "id": "t3zBQfre1ei2",
        "outputId": "1b3c7d21-d88e-405b-9263-ed5f054ce611"
      },
      "execution_count": null,
      "outputs": [
        {
          "output_type": "stream",
          "name": "stdout",
          "text": [
            "{'apple': 150, 'banana': 300, 'grape': 200}\n",
            "{'title': 'Python入門', 'author': '田中太郎', 'year': 2024}\n"
          ]
        }
      ]
    },
    {
      "cell_type": "markdown",
      "source": [
        "##020 練習問題\n",
        "次の処理をコーディングして下さい\n",
        "1. 前問の辞書に”orange”: 250 を追加して下さい\n",
        "2. 前問の辞書に”price”: 2480 を追加して下さい"
      ],
      "metadata": {
        "id": "5qP-MUaF_WzH"
      }
    },
    {
      "cell_type": "code",
      "source": [
        "prices[\"orange\"] = 250\n",
        "print(prices)\n",
        "\n",
        "book[\"price\"] = 2480\n",
        "print(book)"
      ],
      "metadata": {
        "id": "uKPooP_m1xdR"
      },
      "execution_count": null,
      "outputs": []
    },
    {
      "cell_type": "markdown",
      "source": [
        "##021 練習問題\n",
        "次の処理をコーディングして下さい\n",
        "1. 前問の辞書から”apple”のキーを削除して下さい\n",
        "2. 前問の辞書から全てのデータを削除して下さい"
      ],
      "metadata": {
        "id": "4kzEfhbC_WvY"
      }
    },
    {
      "cell_type": "code",
      "source": [
        "del prices[\"apple\"]\n",
        "print(prices)\n",
        "\n",
        "book.clear()\n",
        "print(book)"
      ],
      "metadata": {
        "id": "E0F0PaGF19tY"
      },
      "execution_count": null,
      "outputs": []
    },
    {
      "cell_type": "markdown",
      "source": [
        "##022 練習問題\n",
        "次の処理をコーディングして下さい\n",
        "1. 以下の要素を持つタプル days を作成して下さい\n",
        "\"Monday\", \"Tuesday\", \"Wednesday\", \"Thursday\", \"Friday\"\n",
        "2. 東京の緯度と経度をタプル tokyo_location に格納して下さい\n",
        "- 緯度（35.682839）\n",
        "- 経度（139.759455）"
      ],
      "metadata": {
        "id": "uBOMC8-u_WrZ"
      }
    },
    {
      "cell_type": "code",
      "source": [
        "days = (\"Monday\", \"Tuesday\", \"Wednesday\", \"Thursday\", \"Friday\")\n",
        "print(days)\n",
        "\n",
        "tokyo_location = (35.682839, 139.759455)\n",
        "print(tokyo_location)"
      ],
      "metadata": {
        "id": "-EpiERrZ2RDu"
      },
      "execution_count": null,
      "outputs": []
    },
    {
      "cell_type": "markdown",
      "source": [
        "##023 練習問題\n",
        "次の処理をコーディングして下さい\n",
        "1. 前問のタプル days から”Tuesday”を変数dayに代入して、表示して下さい\n",
        "2. 前問のタプル tokyo_location から緯度を変数 latに代入して、表示して下さい"
      ],
      "metadata": {
        "id": "BeXL3arL_Wnn"
      }
    },
    {
      "cell_type": "code",
      "source": [
        "day = days[1]\n",
        "print(day)\n",
        "\n",
        "lat = tokyo_location[0]\n",
        "print(lat)"
      ],
      "metadata": {
        "id": "94X1_iM72l5N"
      },
      "execution_count": null,
      "outputs": []
    },
    {
      "cell_type": "markdown",
      "source": [
        "##024 練習問題\n",
        "次の処理をコーディングして下さい\n",
        "1. 以下の要素を持つ集合 numbers を作成して下さい\n",
        "<br>10, 20, 30, 40, 50\n",
        "2. 以下の要素を持つ集合 cities を作成して下さい\n",
        "<br>\"Tokyo\", \"Osaka\", \"Nagoya\""
      ],
      "metadata": {
        "id": "GzgB4PJy_WkJ"
      }
    },
    {
      "cell_type": "code",
      "source": [
        "numbers = {10, 20, 30, 40, 50}\n",
        "print(numbers)\n",
        "\n",
        "cities = {\"Tokyo\", \"Osaka\", \"Nagoya\"}\n",
        "print(cities)"
      ],
      "metadata": {
        "id": "YVgVXj2x24WH"
      },
      "execution_count": null,
      "outputs": []
    },
    {
      "cell_type": "markdown",
      "source": [
        "##025 練習問題\n",
        "次の処理をコーディングして下さい\n",
        "1. 前問の集合 numberes に含まれている要素を全て出力して下さい\n",
        "2. 前問の集合 cities に含まれている要素を全て出力して下さい"
      ],
      "metadata": {
        "id": "T4B7FIbn_Wge"
      }
    },
    {
      "cell_type": "code",
      "source": [
        "for number in numbers:\n",
        "    print(number)\n",
        "\n",
        "for city in cities:\n",
        "    print(city)"
      ],
      "metadata": {
        "id": "XNg-zaY23LuR"
      },
      "execution_count": null,
      "outputs": []
    },
    {
      "cell_type": "markdown",
      "source": [
        "##026 練習問題\n",
        "次の処理をコーディングして下さい\n",
        "1. 前問の集合 numberes に 100 を追加して下さい\n",
        "2. 前問の集合 cities に“fukuoka”を追加して下さい"
      ],
      "metadata": {
        "id": "neHLlM1v_WdF"
      }
    },
    {
      "cell_type": "code",
      "source": [
        "numbers.add(100)\n",
        "print(numbers)\n",
        "\n",
        "cities.add(\"Fukuoka\")\n",
        "print(cities)"
      ],
      "metadata": {
        "id": "YjWxmLaM3X_w"
      },
      "execution_count": null,
      "outputs": []
    },
    {
      "cell_type": "markdown",
      "source": [
        "##027 練習問題\n",
        "次の処理をコーディングして下さい\n",
        "1. 前問の集合 numberes から 30 を削除して下さい\n",
        "2. 前問の集合 cities から全ての要素を削除して下さい"
      ],
      "metadata": {
        "id": "GatCJeaT_WZV"
      }
    },
    {
      "cell_type": "code",
      "source": [
        "numbers.remove(30)\n",
        "print(numbers)\n",
        "\n",
        "cities.clear()\n",
        "print(cities)"
      ],
      "metadata": {
        "id": "C0rl8A2X3rMy"
      },
      "execution_count": null,
      "outputs": []
    },
    {
      "cell_type": "markdown",
      "source": [
        "##028 練習問題\n",
        "次の処理をコーディングして下さい\n",
        "1. 0から9までの各数を2倍したリストを作成してください\n",
        "2. “hello” の各文字をリストに格納するリストを作成してください"
      ],
      "metadata": {
        "id": "wjunWxMX_WV1"
      }
    },
    {
      "cell_type": "code",
      "source": [
        "double_num = [i * 2 for i in range(10)]\n",
        "print(double_num)\n",
        "\n",
        "word = [x for x in \"hello\"]\n",
        "print(word)"
      ],
      "metadata": {
        "id": "EbfPZUx-3_ED"
      },
      "execution_count": null,
      "outputs": []
    },
    {
      "cell_type": "markdown",
      "source": [
        "##029 練習問題\n",
        "次の処理をコーディングして下さい\n",
        "1. 0から9のうち3の倍数のみのリストを作成してください\n",
        "2. “PythonProgramming” の中から母音のみを格納するリストを作成してください"
      ],
      "metadata": {
        "id": "l5hg9SN7_WRS"
      }
    },
    {
      "cell_type": "code",
      "source": [
        "triple_num = [ i for i in range(10) if i % 3 == 0]\n",
        "print(triple_num)\n",
        "\n",
        "vowel = [ x for x in \"PythonProgramming\" if x in [\"a\", \"i\", \"u\", \"e\", \"o\"] ]\n",
        "print(vowel)"
      ],
      "metadata": {
        "id": "zGuGlfwT4m2I"
      },
      "execution_count": null,
      "outputs": []
    },
    {
      "cell_type": "markdown",
      "source": [
        "##030 練習問題\n",
        "次の処理をコーディングして下さい\n",
        "1. 0~9の数字で3の倍数なら \"Fizz\"、それ以外は数値を格納するリストを作成してください\n",
        "2. 1~10の数字で 5以上ならそのまま、5未満なら'Low'を格納するリストを作成してください"
      ],
      "metadata": {
        "id": "NKSA18rI_WHV"
      }
    },
    {
      "cell_type": "code",
      "source": [
        "fizz = [i if i % 3 != 0 else \"Fizz\" for i in range(10)]\n",
        "print(fizz)\n",
        "\n",
        "val = [x if x > 5 else \"Low\" for x in range(1,11)]\n",
        "print(val)"
      ],
      "metadata": {
        "id": "JzPlKUM25hqI"
      },
      "execution_count": null,
      "outputs": []
    },
    {
      "cell_type": "markdown",
      "source": [
        "##031 練習問題\n",
        "次の処理をコーディングして下さい\n",
        "本のタイトル、著者、ページ数を持つ Book クラスを作成してください\n",
        "- インスタンス変数 title、author、pages を持つ\n",
        "- インスタンを作成してインスタンス変数が取得できることを確認する"
      ],
      "metadata": {
        "id": "JMrbMy3ZBsq-"
      }
    },
    {
      "cell_type": "code",
      "source": [
        "class Book:\n",
        "    def __init__(self, title, author, pages):\n",
        "        self.title = title\n",
        "        self.author = author\n",
        "        self.pages = pages\n",
        "\n",
        "book1 = Book(\"Python入門\", \"エンジ\", 200)\n",
        "print(book1.title)\n",
        "print(book1.author)\n",
        "print(book1.pages)"
      ],
      "metadata": {
        "id": "xCZ4p_8D6tuG"
      },
      "execution_count": null,
      "outputs": []
    },
    {
      "cell_type": "markdown",
      "source": [
        "##032 練習問題\n",
        "次の処理をコーディングして下さい\n",
        "本の情報を表示する show_info() メソッドを作成して下さい\n",
        "- 出力: 「Title:タイトル, Author: 著者, Pages: ページ数」\n",
        "- インスタンスを作成して表示を確認してください"
      ],
      "metadata": {
        "id": "sJlcJdAhBpkV"
      }
    },
    {
      "cell_type": "code",
      "source": [
        "class Book:\n",
        "    def __init__(self, title, author, pages):\n",
        "        self.title = title\n",
        "        self.author = author\n",
        "        self.pages = pages\n",
        "\n",
        "    def show_info(self):\n",
        "        print(f\"Title:{self.title}, Author:{self.author}, pages:{self.pages}\")\n",
        "\n",
        "book1 = Book(\"Python入門\", \"エンジ\", 200)\n",
        "book1.show_info()"
      ],
      "metadata": {
        "id": "a8IhtC8p7b2r"
      },
      "execution_count": null,
      "outputs": []
    },
    {
      "cell_type": "markdown",
      "source": [
        "##033 練習問題\n",
        "次の処理をコーディングして下さい\n",
        "Book クラスに total_books というクラス変数を追加してください\n",
        "- クラス全体で作成された本の数を管理して下さい\n",
        "- インスタンスが作成されるたびに total_books を増やして下さい\n",
        "- show_total_books() というクラスメソッドを追加して現在作成された本の合計数を表示して下さい"
      ],
      "metadata": {
        "id": "hrSWxP87BqHU"
      }
    },
    {
      "cell_type": "code",
      "source": [
        "class Book:\n",
        "    total_books = 0\n",
        "\n",
        "    def __init__(self, title, author, pages):\n",
        "        self.title = title\n",
        "        self.author = author\n",
        "        self.pages = pages\n",
        "        Book.total_books += 1\n",
        "\n",
        "    def show_info(self):\n",
        "        print(f\"Title:{self.title}, Author:{self.author}, pages:{self.pages}\")\n",
        "\n",
        "    @classmethod\n",
        "    def show_total_books(cls):\n",
        "        print(cls.total_books)\n",
        "\n",
        "book1 = Book(\"Python入門\", \"エンジ\", 200)\n",
        "Book.show_total_books()\n",
        "book2 = Book(\"Ruby入門\", \"Suzuki\", 100)\n",
        "Book.show_total_books()\n",
        "book3 = Book(\"php入門\", \"Tanaka\", 400)\n",
        "Book.show_total_books()"
      ],
      "metadata": {
        "id": "koacgED4757l"
      },
      "execution_count": null,
      "outputs": []
    },
    {
      "cell_type": "markdown",
      "source": [
        "##034 練習問題\n",
        "次の処理をコーディングして下さい<br>\n",
        "Book クラスに300ページ以上の本なら True をそれ未満なら False を返す is_long_book(pages) というスタティックメソッドを追加してください"
      ],
      "metadata": {
        "id": "GyAeEVVlBsON"
      }
    },
    {
      "cell_type": "code",
      "source": [
        "class Book:\n",
        "    total_books = 0\n",
        "\n",
        "    def __init__(self, title, author, pages):\n",
        "        self.title = title\n",
        "        self.author = author\n",
        "        self.pages = pages\n",
        "        Book.total_books += 1\n",
        "\n",
        "    def show_info(self):\n",
        "        print(f\"Title:{self.title}, Author:{self.author}, pages:{self.pages}\")\n",
        "\n",
        "    @classmethod\n",
        "    def show_total_books(cls):\n",
        "        print(cls.total_books)\n",
        "\n",
        "    @staticmethod\n",
        "    def is_long_book(pages):\n",
        "        return pages >= 300\n",
        "\n",
        "print(Book.is_long_book(300))\n",
        "print(Book.is_long_book(290))"
      ],
      "metadata": {
        "id": "WcMpFgt28wLZ"
      },
      "execution_count": null,
      "outputs": []
    },
    {
      "cell_type": "markdown",
      "source": [
        "##035 練習問題\n",
        "次の処理をコーディングして下さい\n",
        "Book クラスを継承して EBook クラスを作成してください\n",
        "EBook には file_size（MB単位のファイルサイズ）を追加します\n",
        "\n",
        "全てのインスタンス変数を表示させて下さい"
      ],
      "metadata": {
        "id": "8xkOcGR9B-dX"
      }
    },
    {
      "cell_type": "code",
      "source": [
        "class Book:\n",
        "    total_books = 0\n",
        "\n",
        "    def __init__(self, title, author, pages):\n",
        "        self.title = title\n",
        "        self.author = author\n",
        "        self.pages = pages\n",
        "        Book.total_books += 1\n",
        "\n",
        "    def show_info(self):\n",
        "        print(f\"Title:{self.title}, Author:{self.author}, pages:{self.pages}\")\n",
        "\n",
        "    @classmethod\n",
        "    def show_total_books(cls):\n",
        "        print(cls.total_books)\n",
        "\n",
        "    @staticmethod\n",
        "    def is_long_book(pages):\n",
        "        return pages >= 300\n",
        "\n",
        "class EBook(Book):\n",
        "    def __init__(self, title, author, pages, file_size):\n",
        "        super().__init__(title, author, pages)\n",
        "        self.file_size = file_size\n",
        "\n",
        "ebook1 = EBook(\"Python入門\", \"エンジ\", 200, 500)\n",
        "print(ebook1.title)\n",
        "print(ebook1.author)\n",
        "print(ebook1.pages)\n",
        "print(ebook1.file_size)"
      ],
      "metadata": {
        "id": "_SPnHR9P9alC"
      },
      "execution_count": null,
      "outputs": []
    },
    {
      "cell_type": "markdown",
      "source": [
        "##036 練習問題\n",
        "次の処理をコーディングして下さい\n",
        "EBook クラスの show_info() メソッドをオーバーライドしfile_sizeも表示するようにしてください。"
      ],
      "metadata": {
        "id": "xnM3nTjXB-N9"
      }
    },
    {
      "cell_type": "code",
      "execution_count": null,
      "metadata": {
        "id": "GLA0L_-K_Qto"
      },
      "outputs": [],
      "source": [
        "class Book:\n",
        "    total_books = 0\n",
        "\n",
        "    def __init__(self, title, author, pages):\n",
        "        self.title = title\n",
        "        self.author = author\n",
        "        self.pages = pages\n",
        "        Book.total_books += 1\n",
        "\n",
        "    def show_info(self):\n",
        "        print(f\"Title:{self.title}, Author:{self.author}, pages:{self.pages}\")\n",
        "\n",
        "    @classmethod\n",
        "    def show_total_books(cls):\n",
        "        print(cls.total_books)\n",
        "\n",
        "    @staticmethod\n",
        "    def is_long_book(pages):\n",
        "        return pages >= 300\n",
        "\n",
        "class EBook(Book):\n",
        "    def __init__(self, title, author, pages, file_size):\n",
        "        super().__init__(title, author, pages)\n",
        "        self.file_size = file_size\n",
        "\n",
        "    def show_info(self):\n",
        "        print(f\"Title:{self.title}, Author:{self.author}, pages:{self.pages}, file size:{self.file_size}\")\n",
        "\n",
        "ebook2 = EBook(\"Ruby入門\", \"Suzuki\", 100, 350)\n",
        "ebook2.show_info()"
      ]
    }
  ]
}